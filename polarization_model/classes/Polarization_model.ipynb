{
 "cells": [
  {
   "cell_type": "markdown",
   "metadata": {},
   "source": [
    "Import necessary files and libraries"
   ]
  },
  {
   "cell_type": "code",
   "execution_count": null,
   "metadata": {},
   "outputs": [
    {
     "ename": "",
     "evalue": "",
     "output_type": "error",
     "traceback": [
      "\u001b[1;31mFailed to start the Kernel 'ABM-Notebooks-0-1-maj39AT7 (Python 3.11.7)'. \n",
      "\u001b[1;31mView Jupyter <a href='command:jupyter.viewOutput'>log</a> for further details. spawn UNKNOWN"
     ]
    }
   ],
   "source": [
    "import agent as ag\n",
    "import model as md\n"
   ]
  }
 ],
 "metadata": {
  "kernelspec": {
   "display_name": "ABM-Notebooks-0-1-maj39AT7",
   "language": "python",
   "name": "python3"
  },
  "language_info": {
   "name": "python",
   "version": "3.11.7"
  }
 },
 "nbformat": 4,
 "nbformat_minor": 2
}
